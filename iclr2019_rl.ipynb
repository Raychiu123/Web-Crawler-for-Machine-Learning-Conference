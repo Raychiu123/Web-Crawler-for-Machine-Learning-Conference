{
 "cells": [
  {
   "cell_type": "code",
   "execution_count": 1,
   "metadata": {},
   "outputs": [],
   "source": [
    "from bs4 import BeautifulSoup\n",
    "from urllib.request import urlopen\n",
    "from selenium import webdriver\n",
    "import pandas as pd"
   ]
  },
  {
   "cell_type": "code",
   "execution_count": 2,
   "metadata": {},
   "outputs": [],
   "source": [
    "html = \"https://openreview.net/group?id=ICLR.cc/2019/Conference#accepted-poster-papers\""
   ]
  },
  {
   "cell_type": "code",
   "execution_count": 3,
   "metadata": {},
   "outputs": [],
   "source": [
    "driver = webdriver.Chrome(executable_path = \"C://Users//Raychiu//chromedriver_win32//chromedriver.exe\")\n",
    "driver.get(html)"
   ]
  },
  {
   "cell_type": "code",
   "execution_count": 4,
   "metadata": {},
   "outputs": [],
   "source": [
    "content_element = driver.find_element_by_class_name(\"tab-content\")\n",
    "content_html = content_element.get_attribute(\"innerHTML\")\n",
    "#print(content_element)"
   ]
  },
  {
   "cell_type": "code",
   "execution_count": 5,
   "metadata": {},
   "outputs": [],
   "source": [
    "soup = BeautifulSoup(content_html, \"html.parser\")"
   ]
  },
  {
   "cell_type": "code",
   "execution_count": 6,
   "metadata": {},
   "outputs": [],
   "source": [
    "div_tag_poster = soup.find_all(\"div\", id = \"accepted-poster-papers\")\n",
    "div_tag_oral = soup.find_all(\"div\", id = \"accepted-oral-papers\")"
   ]
  },
  {
   "cell_type": "code",
   "execution_count": 7,
   "metadata": {},
   "outputs": [],
   "source": [
    "li_tag_poster = soup.find_all(\"li\", class_ = \"note\")\n",
    "li_tag_oral = soup.find_all(\"li\", class_ = \"note\")"
   ]
  },
  {
   "cell_type": "code",
   "execution_count": 8,
   "metadata": {},
   "outputs": [],
   "source": [
    "a1 = []\n",
    "a2 = []\n",
    "a3 = []\n",
    "a4 = []\n",
    "a5 = []\n",
    "for li in li_tag_poster:\n",
    "    if \"reinforce\" in li.find(\"h4\").find(\"a\").string.strip().lower():\n",
    "        #print(i.string)\n",
    "        a1.append(li.find(\"h4\").find(\"a\").string.strip())\n",
    "    if \"policy\" in li.find(\"h4\").find(\"a\").string.strip().lower():\n",
    "        #print(i.string)\n",
    "        a2.append(li.find(\"h4\").find(\"a\").string.strip())\n",
    "    if \"exploration\" in li.find(\"h4\").find(\"a\").string.strip().lower():\n",
    "        a3.append(li.find(\"h4\").find(\"a\").string.strip())\n",
    "    if \"planning\" in li.find(\"h4\").find(\"a\").string.strip().lower():\n",
    "        a4.append(li.find(\"h4\").find(\"a\").string.strip())\n",
    "    if \"model-based\" in li.find(\"h4\").find(\"a\").string.strip().lower():\n",
    "        a5.append(li.find(\"h4\").find(\"a\").string.strip())"
   ]
  },
  {
   "cell_type": "code",
   "execution_count": 9,
   "metadata": {},
   "outputs": [],
   "source": [
    "s1 = pd.Series(a1, name='reinforcement')\n",
    "s2 = pd.Series(a2, name='policy')\n",
    "s3 = pd.Series(a3, name='exploration')\n",
    "s4 = pd.Series(a4, name='planning')\n",
    "s5 = pd.Series(a5, name='model-based')\n",
    "df = pd.concat([s1,s2,s3,s4,s5], axis=1)"
   ]
  },
  {
   "cell_type": "code",
   "execution_count": 10,
   "metadata": {},
   "outputs": [],
   "source": [
    "df.to_excel(\"ICLR2019_RL.xlsx\", encoding='utf-8')"
   ]
  },
  {
   "cell_type": "code",
   "execution_count": 11,
   "metadata": {},
   "outputs": [],
   "source": [
    "driver.close()"
   ]
  },
  {
   "cell_type": "code",
   "execution_count": null,
   "metadata": {},
   "outputs": [],
   "source": []
  }
 ],
 "metadata": {
  "kernelspec": {
   "display_name": "Python 3",
   "language": "python",
   "name": "python3"
  },
  "language_info": {
   "codemirror_mode": {
    "name": "ipython",
    "version": 3
   },
   "file_extension": ".py",
   "mimetype": "text/x-python",
   "name": "python",
   "nbconvert_exporter": "python",
   "pygments_lexer": "ipython3",
   "version": "3.7.0"
  }
 },
 "nbformat": 4,
 "nbformat_minor": 2
}
